{
 "cells": [
  {
   "cell_type": "markdown",
   "metadata": {},
   "source": [
    "# Data Cleansing\n",
    "### Following columns were dropped from dataset\n",
    "-  Trip ID\n",
    "-  Pickup Census Tract\n",
    "-  Dropoff Census Tract\n",
    "-  Pickup Centroid Location\n",
    "-  Dropoff Centroid Location\n",
    "\n",
    "### Records deletion\n",
    "\n",
    "| Field | Deletion condition |\n",
    "|------|------|\n",
    "| Trip Miles | 0 |\n",
    "| Trip Seconds | 0 |\n",
    "| Pickup Community Area | 0 or NULL |\n",
    "| Dropoff Community Area | 0 or NULL |\n",
    "| Fare | 0 |\n",
    "| Pickup Centroid Latitude | NULL |\n",
    "| Pickup Centroid Longitude | NULL |\n",
    "| Dropoff Centroid Latitude | NULL |\n",
    "| Dropoff Centroid Longitude | NULL |\n"
   ]
  },
  {
   "cell_type": "markdown",
   "metadata": {},
   "source": [
    "# Derived Tables\n",
    "\n",
    "The data was grouped according to pickup community area and dropoff community area each seperately and the latitude and longitude. This would give us approximate centroid of the each community area.\n",
    "#### Community area Location mapping table sample\n",
    "| Community Area | Latitude | Longitude |\n",
    "| ------ | ------ | ------ |\n",
    "| 1 | 42.009506 | -87.670208 |\n",
    "| 2 | 42.001556 | -87.695008 |\n",
    "| 3 | 41.965685 | -87.655717 |\n",
    "| 4 | 41.975091 | -87.687479 |\n",
    "| 5 | 41.94784 | -87.683792 |\n"
   ]
  },
  {
   "cell_type": "markdown",
   "metadata": {},
   "source": [
    "# Data Description \n",
    "\n",
    "## Taxi Trip Data\n",
    "| Column Name | Description | Type |\n",
    "| :------ |:------ | :------ |\n",
    "| Trip ID | A unique identifier for the trip. | Plain Text |\n",
    "| Taxi ID | A unique identifier for the taxi. | Plain Text |\n",
    "| Trip Start Timestamp | When the trip started, rounded to the nearest 15 minutes. | Date & Time |\n",
    "| Trip End Timestamp | When the trip ended, rounded to the nearest 15 minutes. | Date & Time |\n",
    "| Trip Seconds | Time of the trip in seconds. | Number |\n",
    "| Trip Miles | Distance of the trip in miles. | Number |\n",
    "| Pickup Census Tract | The Census Tract where the trip began. For privacy, this Census Tract is not shown for some trips. | Plain Text |\n",
    "| Dropoff Census Tract | The Census Tract where the trip ended. For privacy, this Census Tract is not shown for some trips. | Plain Text |\n",
    "| Pickup Community Area | The Community Area where the trip began. | Number |\n",
    "| Dropoff Community Area | The Community Area where the trip ended. | Number |\n",
    "| Fare | The fare for the trip. | Money |\n",
    "| Tips | The tip for the trip. Cash tips generally will not be recorded. | Money |\n",
    "| Tolls | The tolls for the trip. | Money |\n",
    "| Extras | Extra charges for the trip. | Money |\n",
    "| Trip Total | Total cost of the trip, the total of the previous columns. | Money |\n",
    "| Payment Type | Type of payment for the trip. | Plain Text |\n",
    "| Company | The taxi company. | Plain Text |\n",
    "| Pickup Centroid Latitude | The latitude of the center of the pickup census tract or the community area if the census tract has been hidden for privacy. | Number |\n",
    "| Pickup Centroid Longitude | The longitude of the center of the pickup census tract or the community area if the census tract has been hidden for privacy. | Number |\n",
    "| Dropoff Centroid Latitude | The latitude of the center of the dropoff census tract or the community area if the census tract has been hidden for privacy. | Number |\n",
    "| Dropoff Centroid Longitude | The longitude of the center of the dropoff census tract or the community area if the census tract has been hidden for privacy. | Number |\n",
    "\n",
    "## Community Area\n",
    "| Column Name | Description |\n",
    "|:----|:----|\n",
    "| Community Area | Number |\n",
    "| Community Name | Text |"
   ]
  },
  {
   "cell_type": "code",
   "execution_count": null,
   "metadata": {
    "collapsed": true
   },
   "outputs": [],
   "source": []
  }
 ],
 "metadata": {
  "kernelspec": {
   "display_name": "Python 3",
   "language": "python",
   "name": "python3"
  },
  "language_info": {
   "codemirror_mode": {
    "name": "ipython",
    "version": 3
   },
   "file_extension": ".py",
   "mimetype": "text/x-python",
   "name": "python",
   "nbconvert_exporter": "python",
   "pygments_lexer": "ipython3",
   "version": "3.6.1"
  }
 },
 "nbformat": 4,
 "nbformat_minor": 2
}
